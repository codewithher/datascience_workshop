{
 "cells": [
  {
   "cell_type": "code",
   "execution_count": 1,
   "id": "40077d4e",
   "metadata": {},
   "outputs": [],
   "source": [
    "import pandas as pd\n",
    "import numpy as np\n",
    "\n",
    "import matplotlib.pyplot as plt\n",
    "plt.style.use('ggplot')\n",
    "plt.rcParams['figure.figsize'] = (10, 5)"
   ]
  },
  {
   "cell_type": "markdown",
   "id": "61dfa21e",
   "metadata": {
    "slideshow": {
     "slide_type": "slide"
    }
   },
   "source": [
    "<center><h2>CWH Data Science Workshop!🥳</h2></center>"
   ]
  },
  {
   "cell_type": "markdown",
   "id": "edf518ca",
   "metadata": {
    "slideshow": {
     "slide_type": "slide"
    }
   },
   "source": [
    "## What is data science? 🤔"
   ]
  },
  {
   "cell_type": "markdown",
   "id": "d2145c39",
   "metadata": {
    "slideshow": {
     "slide_type": "slide"
    }
   },
   "source": [
    "### What is data science?\n",
    "\n",
    "<br>\n",
    "\n",
    "<center><img src='imgs/what-is-data-science.png' width=60%></center>\n",
    "\n",
    "<center>Everyone seems to have their own definition of what data science is.</center>"
   ]
  },
  {
   "cell_type": "markdown",
   "id": "efabcfc5",
   "metadata": {
    "slideshow": {
     "slide_type": "fragment"
    }
   },
   "source": [
    "Let's look at definitions of data science."
   ]
  },
  {
   "cell_type": "markdown",
   "id": "1efb892b",
   "metadata": {
    "slideshow": {
     "slide_type": "slide"
    }
   },
   "source": [
    "### What is data science?\n",
    "\n",
    "<center><img src=\"imgs/image_0.png\"></center>\n",
    "\n",
    "In 2010, Drew Conway published his famous [Data Science Venn Diagram](http://drewconway.com/zia/2013/3/26/the-data-science-venn-diagram)."
   ]
  },
  {
   "cell_type": "markdown",
   "id": "8d0b484f",
   "metadata": {
    "slideshow": {
     "slide_type": "slide"
    }
   },
   "source": [
    "### What is data science?\n",
    "\n",
    "There isn't agreement on which \"Venn Diagram\" is correct!\n",
    "\n",
    "<center><img src=\"imgs/image_1.png\" width=500></center>\n",
    "\n",
    "- **Why not?** The field is new and rapidly developing.\n",
    "- Make sure you're solid on the fundamentals, then find a niche that you enjoy.\n",
    "- Read Kolassa, [Battle of the Data Science Venn Diagrams](http://www.prooffreader.com/2016/09/battle-of-data-science-venn-diagrams.html)."
   ]
  },
  {
   "cell_type": "markdown",
   "id": "dd48a8ec",
   "metadata": {
    "slideshow": {
     "slide_type": "slide"
    }
   },
   "source": [
    "### What does a _data scientist_ do?\n",
    "\n",
    "The chart below is taken from the [2016 Data Science Salary Survey](https://www.oreilly.com/radar/2016-data-science-salary-survey-results/), administered by O'Reilly. They asked respondents what they spend their time doing on a daily basis. What do you notice? <br>\n",
    "\n",
    "<center><img src='imgs/survey.png' width=40%></center>"
   ]
  },
  {
   "cell_type": "markdown",
   "id": "e164e0c6",
   "metadata": {
    "slideshow": {
     "slide_type": "slide"
    }
   },
   "source": [
    "The chart below is taken from the followup [2021 Data/AI Salary Survey](https://www.oreilly.com/radar/2021-data-ai-salary-survey/), also administered by O'Reilly. They asked respondents:\n",
    "\n",
    "> What technologies will have the biggest effect on compensation in the coming year?\n",
    "\n",
    "<center><img src='imgs/2021-most-relevant-skill.png' width=45%></center>"
   ]
  },
  {
   "cell_type": "markdown",
   "id": "dd1a883b",
   "metadata": {
    "slideshow": {
     "slide_type": "fragment"
    }
   },
   "source": [
    "As you take more courses, you train to ask questions whose answers are **ambiguous** – this uncertainly is what makes data science challenging!"
   ]
  },
  {
   "cell_type": "markdown",
   "id": "9d2f8d88",
   "metadata": {
    "slideshow": {
     "slide_type": "fragment"
    }
   },
   "source": [
    "Let's look at some examples of data science in practice."
   ]
  },
  {
   "cell_type": "markdown",
   "id": "86af436e",
   "metadata": {
    "slideshow": {
     "slide_type": "slide"
    }
   },
   "source": [
    "### Analyzing Wordle trends\n",
    "\n",
    "<center><img src='imgs/wordle-moving-average.png' width=70%></center>\n",
    "    \n",
    "Moving average of the average number of guesses taken for each Wordle word, based on patterns shared on Twitter. ([source](https://observablehq.com/@rlesser/wordle-twitter-exploration))"
   ]
  },
  {
   "cell_type": "markdown",
   "id": "69df9b57",
   "metadata": {
    "slideshow": {
     "slide_type": "slide"
    }
   },
   "source": [
    "### Is Wordle Dying? The Data Weighs In\n",
    "\n",
    "<center><img src=\"imgs/wordle-drop.png\" width=40%></center>\n",
    "\n",
    "> Compared to the peak of 350,000 shares in mid-February, a typical day in September 2022 only saw about 32,000 Wordle shares on Twitter. That’s a 91 percent drop in a span of seven months. \n",
    "([source](https://wordfinder.yourdictionary.com/blog/is-wordle-dying-the-data-weighs-in/))"
   ]
  },
  {
   "cell_type": "markdown",
   "id": "4cd37733",
   "metadata": {
    "slideshow": {
     "slide_type": "slide"
    }
   },
   "source": [
    "### Data science involves _people_ 🧍\n",
    "\n",
    "The decisions that we make as data scientists have the potential to impact the livelihoods of other people.\n",
    "\n",
    "- COVID case forecasting.\n",
    "- Admissions and hiring.\n",
    "- Hyper-personalized ad recommendations.\n",
    "- Criminal sentencing."
   ]
  },
  {
   "cell_type": "markdown",
   "id": "dfdae8ce",
   "metadata": {
    "slideshow": {
     "slide_type": "slide"
    }
   },
   "source": [
    "### Warning!\n",
    "\n",
    "- Good data analysis is not:\n",
    "    - A simple application of a statistics formula.\n",
    "    - A simple application of statistical software.\n",
    "\n",
    "- There are many tools out there for data science, but they are merely tools. **They don’t do any of the important thinking – that's where you come in!**\n",
    "\n",
    "> _“The purpose of computing is insight, not numbers.”_ - R. Hamming. Numerical Methods for Scientists and Engineers (1962)."
   ]
  },
  {
   "cell_type": "markdown",
   "id": "e3bb2a04",
   "metadata": {
    "slideshow": {
     "slide_type": "slide"
    }
   },
   "source": [
    "## The data science lifecycle 🚴"
   ]
  },
  {
   "cell_type": "markdown",
   "id": "afd51458",
   "metadata": {
    "slideshow": {
     "slide_type": "slide"
    }
   },
   "source": [
    "### The scientific method\n",
    "\n",
    "You learned about the scientific method in elementary school. "
   ]
  },
  {
   "cell_type": "markdown",
   "id": "621c38e0",
   "metadata": {
    "slideshow": {
     "slide_type": "fragment"
    }
   },
   "source": [
    "<center><img src=\"imgs/image_3.png\" width=500></center>"
   ]
  },
  {
   "cell_type": "markdown",
   "id": "56ee9fdd",
   "metadata": {
    "slideshow": {
     "slide_type": "fragment"
    }
   },
   "source": [
    "However, it hides a lot of complexity.\n",
    "- Where did the hypothesis come from?\n",
    "- What data are you modeling? Is the data sufficient?\n",
    "- Under which conditions are the conclusions valid?"
   ]
  },
  {
   "cell_type": "markdown",
   "id": "1a45f8c4",
   "metadata": {
    "slideshow": {
     "slide_type": "slide"
    }
   },
   "source": [
    "### The data science lifecycle\n",
    "\n",
    "<center><img src=\"imgs/DSLC.png\" width=\"40%\"></center>"
   ]
  },
  {
   "cell_type": "markdown",
   "id": "1bb7af57",
   "metadata": {
    "slideshow": {
     "slide_type": "fragment"
    }
   },
   "source": [
    "**All steps lead to more questions!** We'll refer back to the data science lifecycle repeatedly throughout the quarter."
   ]
  },
  {
   "cell_type": "markdown",
   "id": "f94c4317",
   "metadata": {},
   "source": [
    "# Let's start looking at actual data"
   ]
  },
  {
   "cell_type": "code",
   "execution_count": 2,
   "id": "fb2e04f7",
   "metadata": {},
   "outputs": [],
   "source": [
    "# dataframe with info\n",
    "df = pd.read_csv(\"data/honeyproduction.csv\")"
   ]
  },
  {
   "cell_type": "code",
   "execution_count": 3,
   "id": "5c450586",
   "metadata": {},
   "outputs": [
    {
     "data": {
      "text/html": [
       "<div>\n",
       "<style scoped>\n",
       "    .dataframe tbody tr th:only-of-type {\n",
       "        vertical-align: middle;\n",
       "    }\n",
       "\n",
       "    .dataframe tbody tr th {\n",
       "        vertical-align: top;\n",
       "    }\n",
       "\n",
       "    .dataframe thead th {\n",
       "        text-align: right;\n",
       "    }\n",
       "</style>\n",
       "<table border=\"1\" class=\"dataframe\">\n",
       "  <thead>\n",
       "    <tr style=\"text-align: right;\">\n",
       "      <th></th>\n",
       "      <th>state</th>\n",
       "      <th>numcol</th>\n",
       "      <th>yieldpercol</th>\n",
       "      <th>totalprod</th>\n",
       "      <th>stocks</th>\n",
       "      <th>priceperlb</th>\n",
       "      <th>prodvalue</th>\n",
       "      <th>year</th>\n",
       "    </tr>\n",
       "  </thead>\n",
       "  <tbody>\n",
       "    <tr>\n",
       "      <th>0</th>\n",
       "      <td>AL</td>\n",
       "      <td>16000.0</td>\n",
       "      <td>71</td>\n",
       "      <td>1136000.0</td>\n",
       "      <td>159000.0</td>\n",
       "      <td>0.72</td>\n",
       "      <td>818000.0</td>\n",
       "      <td>1998</td>\n",
       "    </tr>\n",
       "    <tr>\n",
       "      <th>1</th>\n",
       "      <td>AZ</td>\n",
       "      <td>55000.0</td>\n",
       "      <td>60</td>\n",
       "      <td>3300000.0</td>\n",
       "      <td>1485000.0</td>\n",
       "      <td>0.64</td>\n",
       "      <td>2112000.0</td>\n",
       "      <td>1998</td>\n",
       "    </tr>\n",
       "    <tr>\n",
       "      <th>2</th>\n",
       "      <td>AR</td>\n",
       "      <td>53000.0</td>\n",
       "      <td>65</td>\n",
       "      <td>3445000.0</td>\n",
       "      <td>1688000.0</td>\n",
       "      <td>0.59</td>\n",
       "      <td>2033000.0</td>\n",
       "      <td>1998</td>\n",
       "    </tr>\n",
       "    <tr>\n",
       "      <th>3</th>\n",
       "      <td>CA</td>\n",
       "      <td>450000.0</td>\n",
       "      <td>83</td>\n",
       "      <td>37350000.0</td>\n",
       "      <td>12326000.0</td>\n",
       "      <td>0.62</td>\n",
       "      <td>23157000.0</td>\n",
       "      <td>1998</td>\n",
       "    </tr>\n",
       "    <tr>\n",
       "      <th>4</th>\n",
       "      <td>CO</td>\n",
       "      <td>27000.0</td>\n",
       "      <td>72</td>\n",
       "      <td>1944000.0</td>\n",
       "      <td>1594000.0</td>\n",
       "      <td>0.70</td>\n",
       "      <td>1361000.0</td>\n",
       "      <td>1998</td>\n",
       "    </tr>\n",
       "    <tr>\n",
       "      <th>...</th>\n",
       "      <td>...</td>\n",
       "      <td>...</td>\n",
       "      <td>...</td>\n",
       "      <td>...</td>\n",
       "      <td>...</td>\n",
       "      <td>...</td>\n",
       "      <td>...</td>\n",
       "      <td>...</td>\n",
       "    </tr>\n",
       "    <tr>\n",
       "      <th>621</th>\n",
       "      <td>VA</td>\n",
       "      <td>4000.0</td>\n",
       "      <td>41</td>\n",
       "      <td>164000.0</td>\n",
       "      <td>23000.0</td>\n",
       "      <td>3.77</td>\n",
       "      <td>618000.0</td>\n",
       "      <td>2012</td>\n",
       "    </tr>\n",
       "    <tr>\n",
       "      <th>622</th>\n",
       "      <td>WA</td>\n",
       "      <td>62000.0</td>\n",
       "      <td>41</td>\n",
       "      <td>2542000.0</td>\n",
       "      <td>1017000.0</td>\n",
       "      <td>2.38</td>\n",
       "      <td>6050000.0</td>\n",
       "      <td>2012</td>\n",
       "    </tr>\n",
       "    <tr>\n",
       "      <th>623</th>\n",
       "      <td>WV</td>\n",
       "      <td>6000.0</td>\n",
       "      <td>48</td>\n",
       "      <td>288000.0</td>\n",
       "      <td>95000.0</td>\n",
       "      <td>2.91</td>\n",
       "      <td>838000.0</td>\n",
       "      <td>2012</td>\n",
       "    </tr>\n",
       "    <tr>\n",
       "      <th>624</th>\n",
       "      <td>WI</td>\n",
       "      <td>60000.0</td>\n",
       "      <td>69</td>\n",
       "      <td>4140000.0</td>\n",
       "      <td>1863000.0</td>\n",
       "      <td>2.05</td>\n",
       "      <td>8487000.0</td>\n",
       "      <td>2012</td>\n",
       "    </tr>\n",
       "    <tr>\n",
       "      <th>625</th>\n",
       "      <td>WY</td>\n",
       "      <td>50000.0</td>\n",
       "      <td>51</td>\n",
       "      <td>2550000.0</td>\n",
       "      <td>459000.0</td>\n",
       "      <td>1.87</td>\n",
       "      <td>4769000.0</td>\n",
       "      <td>2012</td>\n",
       "    </tr>\n",
       "  </tbody>\n",
       "</table>\n",
       "<p>626 rows × 8 columns</p>\n",
       "</div>"
      ],
      "text/plain": [
       "    state    numcol  yieldpercol   totalprod      stocks  priceperlb  \\\n",
       "0      AL   16000.0           71   1136000.0    159000.0        0.72   \n",
       "1      AZ   55000.0           60   3300000.0   1485000.0        0.64   \n",
       "2      AR   53000.0           65   3445000.0   1688000.0        0.59   \n",
       "3      CA  450000.0           83  37350000.0  12326000.0        0.62   \n",
       "4      CO   27000.0           72   1944000.0   1594000.0        0.70   \n",
       "..    ...       ...          ...         ...         ...         ...   \n",
       "621    VA    4000.0           41    164000.0     23000.0        3.77   \n",
       "622    WA   62000.0           41   2542000.0   1017000.0        2.38   \n",
       "623    WV    6000.0           48    288000.0     95000.0        2.91   \n",
       "624    WI   60000.0           69   4140000.0   1863000.0        2.05   \n",
       "625    WY   50000.0           51   2550000.0    459000.0        1.87   \n",
       "\n",
       "      prodvalue  year  \n",
       "0      818000.0  1998  \n",
       "1     2112000.0  1998  \n",
       "2     2033000.0  1998  \n",
       "3    23157000.0  1998  \n",
       "4     1361000.0  1998  \n",
       "..          ...   ...  \n",
       "621    618000.0  2012  \n",
       "622   6050000.0  2012  \n",
       "623    838000.0  2012  \n",
       "624   8487000.0  2012  \n",
       "625   4769000.0  2012  \n",
       "\n",
       "[626 rows x 8 columns]"
      ]
     },
     "execution_count": 3,
     "metadata": {},
     "output_type": "execute_result"
    }
   ],
   "source": [
    "df"
   ]
  },
  {
   "cell_type": "code",
   "execution_count": null,
   "id": "8d2625cc",
   "metadata": {},
   "outputs": [],
   "source": []
  }
 ],
 "metadata": {
  "celltoolbar": "Slideshow",
  "kernelspec": {
   "display_name": "Python 3 (ipykernel)",
   "language": "python",
   "name": "python3"
  },
  "language_info": {
   "codemirror_mode": {
    "name": "ipython",
    "version": 3
   },
   "file_extension": ".py",
   "mimetype": "text/x-python",
   "name": "python",
   "nbconvert_exporter": "python",
   "pygments_lexer": "ipython3",
   "version": "3.11.5"
  },
  "rise": {
   "transition": "none"
  }
 },
 "nbformat": 4,
 "nbformat_minor": 5
}
